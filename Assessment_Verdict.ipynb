{
  "nbformat": 4,
  "nbformat_minor": 0,
  "metadata": {
    "colab": {
      "provenance": [],
      "private_outputs": true,
      "authorship_tag": "ABX9TyPxsfO4n6jyxfvixuQueHzO",
      "include_colab_link": true
    },
    "kernelspec": {
      "name": "python3",
      "display_name": "Python 3"
    },
    "language_info": {
      "name": "python"
    },
    "gpuClass": "standard"
  },
  "cells": [
    {
      "cell_type": "markdown",
      "metadata": {
        "id": "view-in-github",
        "colab_type": "text"
      },
      "source": [
        "<a href=\"https://colab.research.google.com/github/adewuyi-caleb1/Assement-verdict/blob/main/Assessment_Verdict.ipynb\" target=\"_parent\"><img src=\"https://colab.research.google.com/assets/colab-badge.svg\" alt=\"Open In Colab\"/></a>"
      ]
    },
    {
      "cell_type": "code",
      "source": [
        "#Assesement Verdict\n",
        "dict1 = {'Ada': 4, 'Bernita': 6, 'Caleb': 7, 'Desmond': 9, 'GreatJohn': 8}\n",
        "\n",
        "name = input(\"Enter your name: \")\n",
        "track = input(\"Enter your track: \")\n",
        "\n",
        "if track != 'Python for Data Analysis':\n",
        "    print(\"You are not in Python for Data Analysis Class\")\n",
        "else:\n",
        "    if name not in dict1.keys():\n",
        "        print(\"You didn't take the assessment and you are ousted from the track\")\n",
        "    else:\n",
        "        score = dict1[name]\n",
        "        if score <= 4:\n",
        "            print(\"You are not eligible to continue the learning, you fall below average\")\n",
        "        else:\n",
        "            print(\"You took the assessment and you are eligible to further continue the learning\")\n",
        "\n",
        "\n"
      ],
      "metadata": {
        "id": "ej6YVcCYY43I"
      },
      "execution_count": null,
      "outputs": []
    },
    {
      "cell_type": "code",
      "source": [],
      "metadata": {
        "id": "KmtaH4AjhPQI"
      },
      "execution_count": null,
      "outputs": []
    },
    {
      "cell_type": "code",
      "source": [],
      "metadata": {
        "id": "EqHwBS1jhk9g"
      },
      "execution_count": null,
      "outputs": []
    }
  ]
}