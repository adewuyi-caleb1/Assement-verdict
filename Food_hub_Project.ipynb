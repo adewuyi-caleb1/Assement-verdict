{
  "cells": [
    {
      "cell_type": "markdown",
      "metadata": {
        "id": "view-in-github",
        "colab_type": "text"
      },
      "source": [
        "<a href=\"https://colab.research.google.com/github/adewuyi-caleb1/Assement-verdict/blob/main/Food_hub_Project.ipynb\" target=\"_parent\"><img src=\"https://colab.research.google.com/assets/colab-badge.svg\" alt=\"Open In Colab\"/></a>"
      ]
    },
    {
      "cell_type": "code",
      "execution_count": null,
      "metadata": {
        "id": "AabQZlbbxnI3"
      },
      "outputs": [],
      "source": [
        "import numpy as np\n",
        "import pandas as pd\n",
        "import seaborn as sns\n",
        "import matplotlib.pyplot as plt\n",
        "%matplotlib inline"
      ]
    },
    {
      "cell_type": "code",
      "execution_count": null,
      "metadata": {
        "id": "g4jryF44y38y"
      },
      "outputs": [],
      "source": [
        "from google.colab import drive \n",
        "drive.mount('/content/drive')"
      ]
    },
    {
      "cell_type": "code",
      "execution_count": null,
      "metadata": {
        "id": "fOEfbUxHcHZS"
      },
      "outputs": [],
      "source": [
        "import numpy as np"
      ]
    },
    {
      "cell_type": "code",
      "execution_count": null,
      "metadata": {
        "id": "V_5dJwuOJgE7"
      },
      "outputs": [],
      "source": [
        "data = pd.read_csv('/content/drive/MyDrive/Colab Notebooks/foodhub_order.csv')"
      ]
    },
    {
      "cell_type": "code",
      "execution_count": null,
      "metadata": {
        "id": "e65eCCQ8RjDI"
      },
      "outputs": [],
      "source": [
        "data.head()"
      ]
    },
    {
      "cell_type": "code",
      "execution_count": null,
      "metadata": {
        "id": "lSUq_Pfec8S_"
      },
      "outputs": [],
      "source": [
        "data.tail()"
      ]
    },
    {
      "cell_type": "code",
      "execution_count": null,
      "metadata": {
        "id": "tMDEEUiKbOQb"
      },
      "outputs": [],
      "source": [
        "data.isnull().sum()"
      ]
    },
    {
      "cell_type": "code",
      "execution_count": null,
      "metadata": {
        "id": "wj3UMbEqdLlY"
      },
      "outputs": [],
      "source": [
        "data.duplicated().sum()"
      ]
    },
    {
      "cell_type": "code",
      "execution_count": null,
      "metadata": {
        "id": "68cGSmY3dV-t"
      },
      "outputs": [],
      "source": [
        "data.shape"
      ]
    },
    {
      "cell_type": "code",
      "execution_count": null,
      "metadata": {
        "id": "sMTimmZ8dbVw"
      },
      "outputs": [],
      "source": [
        "data.describe().T"
      ]
    },
    {
      "cell_type": "code",
      "execution_count": null,
      "metadata": {
        "id": "jVCe1ybXdvdA"
      },
      "outputs": [],
      "source": [
        "np.mean(data)"
      ]
    },
    {
      "cell_type": "code",
      "execution_count": null,
      "metadata": {
        "id": "gX4F6cJBh-gb"
      },
      "outputs": [],
      "source": [
        "np.median(data['delivery_time'])"
      ]
    },
    {
      "cell_type": "code",
      "execution_count": null,
      "metadata": {
        "id": "U77evBq2Lh1O"
      },
      "outputs": [],
      "source": [
        "datatypes = data.dtypes\n",
        "print(datatypes)"
      ]
    },
    {
      "cell_type": "code",
      "execution_count": null,
      "metadata": {
        "id": "-u4hrBEYeQrK"
      },
      "outputs": [],
      "source": [
        "data['rating'].value_counts()"
      ]
    },
    {
      "cell_type": "code",
      "execution_count": null,
      "metadata": {
        "id": "Nifw84QzpmM2"
      },
      "outputs": [],
      "source": [
        "data['order_id'].unique()"
      ]
    },
    {
      "cell_type": "code",
      "execution_count": null,
      "metadata": {
        "id": "mZI9Z0dDqsbV"
      },
      "outputs": [],
      "source": [
        "data['customer_id'].unique()"
      ]
    },
    {
      "cell_type": "code",
      "execution_count": null,
      "metadata": {
        "id": "LnTrc3elq5Ht"
      },
      "outputs": [],
      "source": [
        "data['restaurant_name'].unique()"
      ]
    },
    {
      "cell_type": "code",
      "execution_count": null,
      "metadata": {
        "id": "ECicvQd5rKwv"
      },
      "outputs": [],
      "source": [
        "data['cuisine_type'].unique()"
      ]
    },
    {
      "cell_type": "code",
      "execution_count": null,
      "metadata": {
        "id": "4y6Cv3cWfYSu"
      },
      "outputs": [],
      "source": [
        "plt.figure(figsize =(15,5))\n",
        "sns.countplot(data = data, x = 'cuisine_type')"
      ]
    },
    {
      "cell_type": "code",
      "execution_count": null,
      "metadata": {
        "id": "OTFPTiR0j7vp"
      },
      "outputs": [],
      "source": [
        "sns.histplot(data = data, x = 'cost_of_the_order')\n",
        "plt.show()"
      ]
    },
    {
      "cell_type": "code",
      "execution_count": null,
      "metadata": {
        "id": "aSC7thVcklNn"
      },
      "outputs": [],
      "source": [
        "sns.boxplot(data = data, x = 'cost_of_the_order')\n",
        "plt.show()"
      ]
    },
    {
      "cell_type": "code",
      "execution_count": null,
      "metadata": {
        "id": "z5jdKqoxk3Ww"
      },
      "outputs": [],
      "source": [
        "data['day_of_the_week'].unique()"
      ]
    },
    {
      "cell_type": "code",
      "execution_count": null,
      "metadata": {
        "id": "0Veaaz05lek6"
      },
      "outputs": [],
      "source": [
        "sns.countplot(data = data, x = 'day_of_the_week')\n",
        "plt.show()"
      ]
    },
    {
      "cell_type": "code",
      "execution_count": null,
      "metadata": {
        "id": "YBVN1wIvrIfK"
      },
      "outputs": [],
      "source": [
        "data['rating'].unique()"
      ]
    },
    {
      "cell_type": "code",
      "execution_count": null,
      "metadata": {
        "id": "MTxp2kiRnp9C"
      },
      "outputs": [],
      "source": [
        "sns.countplot(data = data, x = 'rating')\n",
        "plt.show()"
      ]
    },
    {
      "cell_type": "code",
      "execution_count": null,
      "metadata": {
        "id": "xIvTxWj6mTPe"
      },
      "outputs": [],
      "source": [
        "sns.histplot(data = data, x = 'delivery_time')\n",
        "plt.show()"
      ]
    },
    {
      "cell_type": "code",
      "execution_count": null,
      "metadata": {
        "id": "AVRgIwGRoLpS"
      },
      "outputs": [],
      "source": [
        "data['restaurant_name'].value_counts().head(5)"
      ]
    },
    {
      "cell_type": "code",
      "execution_count": null,
      "metadata": {
        "id": "UD00IPBYmGvU"
      },
      "outputs": [],
      "source": [
        "data_weekend = data[data['day_of_the_week'] == 'Weekend']\n",
        "data_weekend['cuisine_type'].unique()"
      ]
    },
    {
      "cell_type": "code",
      "execution_count": null,
      "metadata": {
        "id": "k5nwtaawi3uS"
      },
      "outputs": [],
      "source": [
        "data_greater_than_20 = data[data['cost_of_the_order']>20]\n",
        "print(' The number of the total orders that cost above 20 dollars is: ', data_greater_than_20.shape[0])"
      ]
    },
    {
      "cell_type": "code",
      "execution_count": null,
      "metadata": {
        "id": "JdgVQvSknLxU"
      },
      "outputs": [],
      "source": [
        "percentage = (data_greater_than_20.shape[0] / data.shape[0]) * 100\n",
        "print( 'Percentage of orders above 20 dollars:' , round(percentage, 2), '%' )"
      ]
    },
    {
      "cell_type": "code",
      "execution_count": null,
      "metadata": {
        "id": "u9KICIxBrcPp"
      },
      "outputs": [],
      "source": [
        "mean_del_time = data['delivery_time'].mean()\n",
        "print('The mean delivery time for this dataset is', round( mean_del_time, 2), 'minutes')"
      ]
    },
    {
      "cell_type": "code",
      "execution_count": null,
      "metadata": {
        "id": "R-ZqW301sx7E"
      },
      "outputs": [],
      "source": [
        "data['customer_id'].value_counts().head(3)"
      ]
    },
    {
      "cell_type": "code",
      "execution_count": null,
      "metadata": {
        "id": "QcZ_ME2sxh_o"
      },
      "outputs": [],
      "source": [
        "plt.figure(figsize = (15,7))\n",
        "sns.boxplot(x = 'cuisine_type', y = 'cost_of_the_order', data = data, palette = 'PuBu')\n",
        "plt.xticks(rotation = 60)\n",
        "plt.show()"
      ]
    },
    {
      "cell_type": "code",
      "execution_count": null,
      "metadata": {
        "id": "ZwYae1le59SV"
      },
      "outputs": [],
      "source": [
        "plt.figure(figsize = (15, 7))\n",
        "sns.boxplot( x = 'food_preparation_time', y = 'cuisine_type', data = data, palette = 'PuBu')\n",
        "plt.xticks( rotation = 60)"
      ]
    },
    {
      "cell_type": "code",
      "source": [
        "data.groupby(['restaurant_name'])['cost_of_the_order'].sum().sort_values(ascending = False).head(14)"
      ],
      "metadata": {
        "id": "TVhE2s8YO_MM"
      },
      "execution_count": null,
      "outputs": []
    },
    {
      "cell_type": "code",
      "source": [
        "plt.figure( figsize = (15, 7 ))\n",
        "sns.pointplot(x = 'rating', y = 'delivery_time', data = data)\n",
        "plt.show()"
      ],
      "metadata": {
        "id": "9x-PgyY45tgW"
      },
      "execution_count": null,
      "outputs": []
    },
    {
      "cell_type": "code",
      "source": [
        "plt.figure(figsize = (15, 7))\n",
        "sns.pointplot( x = 'rating', y = 'food_preparation_time', data = data)\n",
        "plt.show()"
      ],
      "metadata": {
        "id": "gDEKDKlT6Zt9"
      },
      "execution_count": null,
      "outputs": []
    },
    {
      "cell_type": "code",
      "source": [
        "plt.figure( figsize = (15, 7))\n",
        "sns.pointplot( x = 'rating', y = 'cost_of_the_order', data = data)\n",
        "plt.show()"
      ],
      "metadata": {
        "id": "4LE6BPfP7GCZ"
      },
      "execution_count": null,
      "outputs": []
    },
    {
      "cell_type": "code",
      "source": [
        "col_list = ['cost_of_the_order', 'food_preparation_time', 'delivery_time']\n",
        "plt.figure(figsize=(15, 7))\n",
        "sns.heatmap(data[col_list].corr(), annot=True, vmin=-1, vmax=1, fmt= \".2f\", cmap= \"Spectral\" )\n",
        "plt.show()"
      ],
      "metadata": {
        "id": "Rzh3KoUi7ntY"
      },
      "execution_count": null,
      "outputs": []
    },
    {
      "cell_type": "code",
      "source": [
        "df_rated = data[data['rating'] != 'Not given'].copy()\n",
        "df_rated['rating'] = df_rated['rating'].astype('int')\n",
        "df_rating_count = df_rated.groupby(['restaurant_name'])['rating'].count().sort_values(ascending = False).reset_index()\n",
        "df_rating_count.head()"
      ],
      "metadata": {
        "id": "N_yxkiGk8WDO"
      },
      "execution_count": null,
      "outputs": []
    },
    {
      "cell_type": "code",
      "source": [
        "rest_names = df_rating_count[ df_rating_count['rating'] > 50 ] ['restaurant_name']\n",
        "df_mean_4 = df_rated[df_rated['restaurant_name'].isin(rest_names)].copy()\n",
        "df_mean_4.groupby(['restaurant_name'])['rating'].mean().sort_values(ascending = False).reset_index().dropna()"
      ],
      "metadata": {
        "id": "Iu2g8UoIwWTS"
      },
      "execution_count": null,
      "outputs": []
    },
    {
      "cell_type": "code",
      "source": [
        " def compute_rev(x):\n",
        "  if x > 20:\n",
        "    return x*0.25\n",
        "  elif x > 5:\n",
        "      return x * 0.15\n",
        "  else:\n",
        "        return x * 0\n",
        "\n",
        "data['Revenue'] = data['cost_of_the_order'].apply(compute_rev)\n",
        "data.head()"
      ],
      "metadata": {
        "id": "Gst4I8yeFa8U"
      },
      "execution_count": null,
      "outputs": []
    },
    {
      "cell_type": "code",
      "source": [
        "total_rev = data['Revenue'].sum()\n",
        "print( 'The net revenue is around ', round(total_rev, 2), 'dollars')"
      ],
      "metadata": {
        "id": "MsB9zpXRBQGQ"
      },
      "execution_count": null,
      "outputs": []
    },
    {
      "cell_type": "code",
      "source": [
        "data['total time'] = data['food_preparation_time'] + data['delivery_time']\n",
        "delivery_time_greater_than_60 = data[data['total time'] > 60]\n",
        "percentage = (delivery_time_greater_than_60.shape[0] / data.shape[0]) * 100\n",
        "print( 'The percentage of the total delivery time more than 60 minutes is', round(percentage, 2), '%')"
      ],
      "metadata": {
        "id": "USqEMpOMu5Gw"
      },
      "execution_count": null,
      "outputs": []
    },
    {
      "cell_type": "code",
      "source": [
        "data_weekday = data[data['day_of_the_week'] == 'Weekday']['delivery_time'].mean()\n",
        "print('The mean delivery time on weekdays is around',round(data_weekday),'minutes')"
      ],
      "metadata": {
        "id": "FkNyy-Cnxz2Z"
      },
      "execution_count": null,
      "outputs": []
    },
    {
      "cell_type": "code",
      "source": [
        "data_weekend = data[data['day_of_the_week'] == 'Weekend'] ['delivery_time'].mean()\n",
        "print( 'The mean delivery time on Weekends is around', round(data_weekend), 'minutes')"
      ],
      "metadata": {
        "id": "0P1xJ91Kvk1s"
      },
      "execution_count": null,
      "outputs": []
    },
    {
      "cell_type": "code",
      "source": [
        "print( ''' Looking keenly at the collaration between the cuiine type and the rating, the is a lucid point that the America cuisine is highly rated, irrespective of the restaurant, my recommendation for a restaurant who wants to improve their customer experience is to look into involving America cuisine to their list of cuisine and make a quick preparation time and the delivery time which contributes largely to the rating of the cuisine''')"
      ],
      "metadata": {
        "id": "pB67z-6Zs81u"
      },
      "execution_count": null,
      "outputs": []
    },
    {
      "cell_type": "code",
      "source": [],
      "metadata": {
        "id": "Q0s6ZI-4vr0h"
      },
      "execution_count": null,
      "outputs": []
    }
  ],
  "metadata": {
    "colab": {
      "private_outputs": true,
      "provenance": [],
      "mount_file_id": "1ozI0NyvgRUC879I-juY15c6lv7LZPofH",
      "authorship_tag": "ABX9TyPVG8HtbM8QvLKXOqkrxuWi",
      "include_colab_link": true
    },
    "kernelspec": {
      "display_name": "Python 3",
      "name": "python3"
    },
    "language_info": {
      "name": "python"
    }
  },
  "nbformat": 4,
  "nbformat_minor": 0
}