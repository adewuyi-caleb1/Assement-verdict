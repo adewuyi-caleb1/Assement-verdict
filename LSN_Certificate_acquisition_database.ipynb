{
  "nbformat": 4,
  "nbformat_minor": 0,
  "metadata": {
    "colab": {
      "private_outputs": true,
      "provenance": [],
      "authorship_tag": "ABX9TyPgH1RYrsAD/XJvpVvuI23E",
      "include_colab_link": true
    },
    "kernelspec": {
      "name": "python3",
      "display_name": "Python 3"
    },
    "language_info": {
      "name": "python"
    }
  },
  "cells": [
    {
      "cell_type": "markdown",
      "metadata": {
        "id": "view-in-github",
        "colab_type": "text"
      },
      "source": [
        "<a href=\"https://colab.research.google.com/github/adewuyi-caleb1/Assement-verdict/blob/main/LSN_Certificate_acquisition_database.ipynb\" target=\"_parent\"><img src=\"https://colab.research.google.com/assets/colab-badge.svg\" alt=\"Open In Colab\"/></a>"
      ]
    },
    {
      "cell_type": "code",
      "execution_count": null,
      "metadata": {
        "id": "S7X-E21ufeeC"
      },
      "outputs": [],
      "source": [
        "student_database = []\n",
        "\n",
        "def add_student(name, Track, gender, certificate_or_mentorship, email ):\n",
        "    student = {'Name': name, 'Track': Track, 'gender': gender, 'certificate/mentorship': certificate_or_mentorship, 'email': email}\n",
        "    student_database.append(student)\n",
        "\n",
        "def register_student():\n",
        "    name = input(\"Enter your name: \")\n",
        "    Track= input(\"Enter your Track: \")\n",
        "    gender = input(\"Enter your gender: \")\n",
        "    certificate_or_mentorship = input(\"Enter your choice, certificate/mentorship: \")\n",
        "    email = input(\"Enter your email: \")\n",
        "    print('Dear', name + ',' + ' ' + 'your details has been added to the database')\n",
        "    add_student(name, Track, gender, certificate_or_mentorship, email)\n",
        "\n",
        "register_student()\n"
      ]
    },
    {
      "cell_type": "code",
      "source": [
        "print(student_database)"
      ],
      "metadata": {
        "id": "mX_ypGqjfoBT"
      },
      "execution_count": null,
      "outputs": []
    },
    {
      "cell_type": "code",
      "source": [
        "#Code to access the Database\n",
        "name = input(\"Enter the name of the student whose details you want to access: \")\n",
        "for student in student_database:\n",
        "    if student[\"Name\"] == name:\n",
        "        print(\"name:\", student[\"Name\"])\n",
        "        print(\"Track:\", student[\"Track\"])\n",
        "        print(\"gender:\", student[\"gender\"])\n",
        "        print(\"certificate/mentorship:\", student[\"certificate/mentorship\"])\n",
        "        print(\"email:\", student[\"email\"])\n",
        "        break\n",
        "else:\n",
        "    print(\"Sorry, no details found for\", name)"
      ],
      "metadata": {
        "id": "7X5K0JDcftvY"
      },
      "execution_count": null,
      "outputs": []
    }
  ]
}